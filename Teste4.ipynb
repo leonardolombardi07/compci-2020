{
 "cells": [
  {
   "cell_type": "markdown",
   "metadata": {
    "toc": true
   },
   "source": [
    "<h1>Table of Contents<span class=\"tocSkip\"></span></h1>\n",
    "<div class=\"toc\"><ul class=\"toc-item\"><li><span><a href=\"#Calculando-o-mínimo-de-uma-função\" data-toc-modified-id=\"Calculando-o-mínimo-de-uma-função-1\"><span class=\"toc-item-num\">1&nbsp;&nbsp;</span>Calculando o mínimo de uma função</a></span></li><li><span><a href=\"#1:-Funções-básicas\" data-toc-modified-id=\"1:-Funções-básicas-2\"><span class=\"toc-item-num\">2&nbsp;&nbsp;</span>1: Funções básicas</a></span><ul class=\"toc-item\"><li><span><a href=\"#Métodos-de-bisseção-e-Newton\" data-toc-modified-id=\"Métodos-de-bisseção-e-Newton-2.1\"><span class=\"toc-item-num\">2.1&nbsp;&nbsp;</span>Métodos de bisseção e Newton</a></span></li><li><span><a href=\"#Derivadas-numéricas\" data-toc-modified-id=\"Derivadas-numéricas-2.2\"><span class=\"toc-item-num\">2.2&nbsp;&nbsp;</span>Derivadas numéricas</a></span></li><li><span><a href=\"#Erro-de-aproximação-da-derivada-central-iterada\" data-toc-modified-id=\"Erro-de-aproximação-da-derivada-central-iterada-2.3\"><span class=\"toc-item-num\">2.3&nbsp;&nbsp;</span>Erro de aproximação da derivada central iterada</a></span></li></ul></li><li><span><a href=\"#2:-Um-problema-modelo\" data-toc-modified-id=\"2:-Um-problema-modelo-3\"><span class=\"toc-item-num\">3&nbsp;&nbsp;</span>2: Um problema modelo</a></span><ul class=\"toc-item\"><li><span><a href=\"#Preparando-a-bisseção\" data-toc-modified-id=\"Preparando-a-bisseção-3.1\"><span class=\"toc-item-num\">3.1&nbsp;&nbsp;</span>Preparando a bisseção</a></span></li><li><span><a href=\"#Gráficos-da-bisseção\" data-toc-modified-id=\"Gráficos-da-bisseção-3.2\"><span class=\"toc-item-num\">3.2&nbsp;&nbsp;</span>Gráficos da bisseção</a></span></li><li><span><a href=\"#Newton\" data-toc-modified-id=\"Newton-3.3\"><span class=\"toc-item-num\">3.3&nbsp;&nbsp;</span>Newton</a></span></li></ul></li><li><span><a href=\"#3:-O-mesmo-problema,-mais-complicado\" data-toc-modified-id=\"3:-O-mesmo-problema,-mais-complicado-4\"><span class=\"toc-item-num\">4&nbsp;&nbsp;</span>3: O mesmo problema, mais complicado</a></span></li></ul></div>"
   ]
  },
  {
   "cell_type": "markdown",
   "metadata": {},
   "source": [
    "![CC-BY-SA](https://mirrors.creativecommons.org/presskit/buttons/88x31/svg/by-sa.svg)\n",
    "\n",
    "\n",
    "This notebook was created by [Bernardo Freitas Paulo da Costa](http://www.im.ufrj.br/bernardofpc),\n",
    "and is licensed under Creative Commons BY-SA."
   ]
  },
  {
   "cell_type": "markdown",
   "metadata": {},
   "source": [
    "Antes de enviar este Teste, verifique que tudo está funcionando como esperado.\n",
    "Por exemplo, **rode o código inteiro, do zero**.\n",
    "Para isso, vá no menu, escolha _Kernel_, depois _Restart & Run All_.\n",
    "\n",
    "Verifique, também, que você respondeu todas as questões:\n",
    "* as questões de código têm `YOUR CODE HERE` (e você pode apagar o `raise NotImplemented` ao incluir sua resposta)\n",
    "* as questões discursivas têm \"YOUR ANSWER HERE\"."
   ]
  },
  {
   "cell_type": "markdown",
   "metadata": {},
   "source": [
    "---"
   ]
  },
  {
   "cell_type": "markdown",
   "metadata": {},
   "source": [
    "Ideias e funções: Luan Lima \\& Bernardo Costa"
   ]
  },
  {
   "cell_type": "code",
   "execution_count": 1,
   "metadata": {
    "deletable": false,
    "editable": false,
    "nbgrader": {
     "cell_type": "code",
     "checksum": "fad3c375e7e9bea49e1af8a31ba4ae42",
     "grade": false,
     "grade_id": "cell-65e15f0c80a778ad",
     "locked": true,
     "schema_version": 3,
     "solution": false,
     "task": false
    }
   },
   "outputs": [],
   "source": [
    "import numpy as np\n",
    "import matplotlib.pyplot as plt"
   ]
  },
  {
   "cell_type": "markdown",
   "metadata": {
    "deletable": false,
    "editable": false,
    "nbgrader": {
     "cell_type": "markdown",
     "checksum": "f0356207f3ddab37b3a572f7ea4b12e9",
     "grade": false,
     "grade_id": "cell-a29e7d7add82d4c0",
     "locked": true,
     "schema_version": 3,
     "solution": false,
     "task": false
    }
   },
   "source": [
    "# Calculando o mínimo de uma função\n",
    "\n",
    "Encontrar o mínimo de uma função derivável é (quase) equivalente a resolver a equação $f'(x) = 0$.\n",
    "\n",
    "Vamos explorar algumas destas ideias."
   ]
  },
  {
   "cell_type": "markdown",
   "metadata": {
    "deletable": false,
    "editable": false,
    "nbgrader": {
     "cell_type": "markdown",
     "checksum": "9309a02cac44696888270aa5581d5d95",
     "grade": false,
     "grade_id": "cell-4c63876feb475715",
     "locked": true,
     "schema_version": 3,
     "solution": false,
     "task": false
    }
   },
   "source": [
    "# 1: Funções básicas\n",
    "\n",
    "## Métodos de bisseção e Newton"
   ]
  },
  {
   "cell_type": "code",
   "execution_count": 2,
   "metadata": {
    "deletable": false,
    "nbgrader": {
     "cell_type": "code",
     "checksum": "da15f4441c6a20aaed87fe0ab02f3364",
     "grade": false,
     "grade_id": "cell-b115a314a5fec568",
     "locked": false,
     "schema_version": 3,
     "solution": true,
     "task": false
    }
   },
   "outputs": [],
   "source": [
    "def bissecao_pts(f, a, b, xtol=1e-8, ytol=1e-8, maxiter=100):\n",
    "    \"\"\"\n",
    "    Encontra uma raiz de  f  pelo algoritmo da bissecao, retornando\n",
    "    todos os pontos pelos quais o algoritmo passa.\n",
    "    \"\"\"\n",
    "    \n",
    "    low = min([a, b])\n",
    "    high = max([a, b])\n",
    "    niter = 0\n",
    "    pts = []\n",
    "    \n",
    "    while True:\n",
    "        niter += 1\n",
    "        mid = (high + low) / 2\n",
    "        pts.append(mid)\n",
    "\n",
    "        reached_maxiter = niter == maxiter\n",
    "        if reached_maxiter:\n",
    "            break\n",
    "\n",
    "        reached_xtol = abs(b-a) <= xtol\n",
    "        if reached_xtol:\n",
    "            break\n",
    "\n",
    "        f_of_mid = f(pts[-1])\n",
    "        reached_ytol = abs(f_of_mid) <= ytol\n",
    "        if reached_ytol:\n",
    "            break\n",
    "\n",
    "        if np.sign(f_of_mid) == np.sign(f(low)):\n",
    "            low = mid\n",
    "        else:\n",
    "            high = mid\n",
    "\n",
    "    return pts"
   ]
  },
  {
   "cell_type": "code",
   "execution_count": 3,
   "metadata": {
    "deletable": false,
    "nbgrader": {
     "cell_type": "code",
     "checksum": "607f2b0a74a5256049a9f7d4216cfa0f",
     "grade": false,
     "grade_id": "cell-0b468dfa529cf20c",
     "locked": false,
     "schema_version": 3,
     "solution": true,
     "task": false
    }
   },
   "outputs": [],
   "source": [
    "def newton_pts(f, df, x, xtol=1e-8, ytol=1e-8, maxiter=100):\n",
    "    \"\"\"\n",
    "    Método de Newton para encontrar uma raiz de  f  a partir do valor inicial  x.\n",
    "    Retorna todos os pontos pelos quais o algoritmo passa.\n",
    "    \"\"\"\n",
    "    pts = [x]\n",
    "    niter = 0\n",
    "\n",
    "    while True:\n",
    "        reached_maxiter = niter == maxiter\n",
    "        if reached_maxiter:\n",
    "            break\n",
    "\n",
    "        current_x = pts[-1]\n",
    "        f_of_current_x = f(current_x)\n",
    "\n",
    "        reached_ytol = abs(f_of_current_x) <= ytol\n",
    "        if reached_ytol:\n",
    "            break\n",
    "\n",
    "        next_x = current_x - (f_of_current_x / df(current_x))\n",
    "        pts.append(next_x)\n",
    "\n",
    "        reached_xtol = abs(next_x - current_x) <= xtol\n",
    "        if reached_xtol:\n",
    "            break\n",
    "\n",
    "        niter += 1\n",
    "\n",
    "    return pts"
   ]
  },
  {
   "cell_type": "markdown",
   "metadata": {
    "deletable": false,
    "editable": false,
    "nbgrader": {
     "cell_type": "markdown",
     "checksum": "b1294b72c66ed0608c69193bd6915a5b",
     "grade": false,
     "grade_id": "cell-6ff29452853ee3a2",
     "locked": true,
     "schema_version": 3,
     "solution": false,
     "task": false
    }
   },
   "source": [
    "## Derivadas numéricas"
   ]
  },
  {
   "cell_type": "code",
   "execution_count": 4,
   "metadata": {
    "deletable": false,
    "nbgrader": {
     "cell_type": "code",
     "checksum": "017080c36145ceee19aa97e75720bd2e",
     "grade": false,
     "grade_id": "cell-1daa58322d288c07",
     "locked": false,
     "schema_version": 3,
     "solution": true,
     "task": false
    }
   },
   "outputs": [],
   "source": [
    "def df_central(f, x, h=1e-5):\n",
    "    \"\"\"Derivada central de  f  em  x, com passo  h\"\"\"\n",
    "    return (f(x + h) - f(x - h)) / (2*h)\n",
    "\n",
    "def ddf_central(f, x, h=1e-4):\n",
    "    \"\"\"Aproximação da segunda derivada de  f  em  x, usando a derivada central iterada com passo  h.\"\"\"\n",
    "    return (df_central(f, x+h, h) - df_central(f, x-h, h))/(2*h)"
   ]
  },
  {
   "cell_type": "markdown",
   "metadata": {
    "deletable": false,
    "editable": false,
    "nbgrader": {
     "cell_type": "markdown",
     "checksum": "5b715c646555740b82fd514ffc215c78",
     "grade": false,
     "grade_id": "cell-c16d8a91f6447f9a",
     "locked": true,
     "schema_version": 3,
     "solution": false,
     "task": false
    }
   },
   "source": [
    "## Erro de aproximação da derivada central iterada\n",
    "\n",
    "Varie $h$ no intervalo $[2^{-27}, 2^0]$,\n",
    "e faça um gráfico do erro da derivada central iterada para derivada segunda,\n",
    "para a exponencial em $x = 0$."
   ]
  },
  {
   "cell_type": "code",
   "execution_count": 5,
   "metadata": {},
   "outputs": [],
   "source": [
    "def plot_ddf_central_of_exp_errors(hs, x = 0):\n",
    "    errors = [ddf_central(np.exp, x, h) - np.exp(x) for h in hs]\n",
    "    plt.plot(hs, errors, label=\"Erro ddf_central - f''(e(x))\")\n",
    "    plt.title(f\"Erro da derivada segunda central iterada da função e*(x) no intervalo hs\")\n",
    "    plt.xlabel(\"h\")\n",
    "    plt.ylabel(\"Erro\")"
   ]
  },
  {
   "cell_type": "code",
   "execution_count": 6,
   "metadata": {
    "deletable": false,
    "nbgrader": {
     "cell_type": "code",
     "checksum": "48465f1971e3970e495c481aa5edce90",
     "grade": false,
     "grade_id": "cell-f9ef9935a20af648",
     "locked": false,
     "schema_version": 3,
     "solution": true,
     "task": false
    }
   },
   "outputs": [
    {
     "data": {
      "image/png": "[encoded data removed]",
      "text/plain": [
       "<Figure size 432x288 with 1 Axes>"
      ]
     },
     "metadata": {
      "needs_background": "light"
     },
     "output_type": "display_data"
    }
   ],
   "source": [
    "ax = plt.gca()\n",
    "\n",
    "hs = np.logspace(-27, 0, base=2, num=100)\n",
    "plot_ddf_central_of_exp_errors(hs)\n",
    "plt.show()"
   ]
  },
  {
   "cell_type": "code",
   "execution_count": 7,
   "metadata": {
    "deletable": false,
    "editable": false,
    "nbgrader": {
     "cell_type": "code",
     "checksum": "1123815067d547cb7964991529b1afe7",
     "grade": true,
     "grade_id": "cell-b05755409653a3ae",
     "locked": true,
     "points": 1,
     "schema_version": 3,
     "solution": false,
     "task": false
    }
   },
   "outputs": [],
   "source": [
    "assert len(ax.lines) == 1\n",
    "assert ax.title.get_text() != \"\"\n",
    "assert ax.get_xlabel() != \"\""
   ]
  },
  {
   "cell_type": "markdown",
   "metadata": {
    "deletable": false,
    "editable": false,
    "nbgrader": {
     "cell_type": "markdown",
     "checksum": "c06e999b9687092a631395757269665d",
     "grade": false,
     "grade_id": "cell-ae0793549d9e71a6",
     "locked": true,
     "schema_version": 3,
     "solution": false,
     "task": false
    }
   },
   "source": [
    "Como esse gráfico muda se escolhermos outros pontos no intervalo $[-2,2]$?\n",
    "\n",
    "Obs: Use erros relativos!"
   ]
  },
  {
   "cell_type": "code",
   "execution_count": 8,
   "metadata": {
    "deletable": false,
    "nbgrader": {
     "cell_type": "code",
     "checksum": "dd15fe897c27a33df3d529a16533c1d9",
     "grade": false,
     "grade_id": "cell-cd0d59a4500b0609",
     "locked": false,
     "schema_version": 3,
     "solution": true,
     "task": false
    }
   },
   "outputs": [
    {
     "name": "stderr",
     "output_type": "stream",
     "text": [
      "<ipython-input-4-113efa04feac>:3: RuntimeWarning: invalid value encountered in double_scalars\n",
      "  return (f(x + h) - f(x - h)) / (2*h)\n"
     ]
    },
    {
     "data": {
      "image/png": "[encoded data removed]",
      "text/plain": [
       "<Figure size 432x288 with 1 Axes>"
      ]
     },
     "metadata": {
      "needs_background": "light"
     },
     "output_type": "display_data"
    }
   ],
   "source": [
    "ax = plt.gca()\n",
    "\n",
    "left, right = [-2, 2]\n",
    "\n",
    "all_hs= []\n",
    "\n",
    "for num in [1, 2, 3, 10, 20, 30, 40, 100, 1000]:\n",
    "    all_hs.append(np.linspace(left, right, num))\n",
    "\n",
    "\n",
    "for hs in all_hs:\n",
    "    plot_ddf_central_of_exp_errors(hs)\n",
    "\n",
    "plt.show()"
   ]
  },
  {
   "cell_type": "code",
   "execution_count": 9,
   "metadata": {
    "deletable": false,
    "editable": false,
    "nbgrader": {
     "cell_type": "code",
     "checksum": "e20f49160d619397e041d7cf3915f22b",
     "grade": true,
     "grade_id": "cell-9c6df51d67a4e19a",
     "locked": true,
     "points": 2,
     "schema_version": 3,
     "solution": false,
     "task": false
    }
   },
   "outputs": [],
   "source": [
    "assert len(ax.lines) >= 8\n",
    "assert ax.title.get_text() != \"\"\n",
    "assert ax.get_xlabel() != \"\""
   ]
  },
  {
   "cell_type": "markdown",
   "metadata": {
    "deletable": false,
    "editable": false,
    "nbgrader": {
     "cell_type": "markdown",
     "checksum": "b34daa4b20059e25e7944c7c5527338e",
     "grade": false,
     "grade_id": "cell-f384f93ee7b42f89",
     "locked": true,
     "schema_version": 3,
     "solution": false,
     "task": false
    }
   },
   "source": [
    "Comente."
   ]
  },
  {
   "cell_type": "markdown",
   "metadata": {
    "deletable": false,
    "nbgrader": {
     "cell_type": "markdown",
     "checksum": "541195bc2b2a521df317d40a8c12fb7c",
     "grade": true,
     "grade_id": "cell-729164762fe133a2",
     "locked": false,
     "points": 2,
     "schema_version": 3,
     "solution": true,
     "task": false
    }
   },
   "source": [
    "Da expansão em série de Taylor da função $e^x$ em torno de $x = 0$, depreende-se que, de um ponto de vista estritamente analítico, o erro pode ser calculado como $$err(h) =\\sum_{n=1}^\\infty \\frac{f^(2n+1) h^(2n)}{(2n + 1)!}$$\n",
    "\n",
    "O que explica o formato polinomial do gráfico mostrado acima para diferentes valores de h no intervalo [-2, 2] e a tendência de diminuição do erro à medida que h diminui. Se, no entanto, focarmos no erro quando h é da ordem de $10^-5$, veremos um comportamento que difere do analiticamente esperado:\n"
   ]
  },
  {
   "cell_type": "code",
   "execution_count": 10,
   "metadata": {
    "scrolled": true
   },
   "outputs": [
    {
     "data": {
      "image/png": "[encoded data removed]",
      "text/plain": [
       "<Figure size 432x288 with 1 Axes>"
      ]
     },
     "metadata": {
      "needs_background": "light"
     },
     "output_type": "display_data"
    }
   ],
   "source": [
    "for multiplier in [5, 6, 7]:\n",
    "    plot_ddf_central_of_exp_errors(np.linspace(-multiplier*1e-5, multiplier*1e-5, num=100))\n",
    "    \n",
    "plt.show()"
   ]
  },
  {
   "cell_type": "markdown",
   "metadata": {},
   "source": [
    "Notamos do gráfico que para valores de h bem próximos de 0, o erro não segue a função prevista pela série de taylor e começa a aumentar significativamente. \n",
    "\n",
    "Isso ocorre por erros de representação numérica do computador. Como seu espaço físico disponível para armazenar dados é limitado, o número de casas decimais de uma variável do tipo ponto flutuante (float) não pode se estender indefinidamente e portanto deve ser de alguma forma aproximada. Para valores cada vez menores de h, as operações aritméticas invocadas pela função da primeira derivada central geram números com cada vez menos algarismos significativos e, portanto, o erro aumenta.\n",
    "\n",
    "Para ilustrar esse fenômeno, vamos subtrair dois números pequenos:"
   ]
  },
  {
   "cell_type": "code",
   "execution_count": 11,
   "metadata": {},
   "outputs": [
    {
     "name": "stdout",
     "output_type": "stream",
     "text": [
      "0.00012481199999997417\n"
     ]
    }
   ],
   "source": [
    "x_verdadeiro = 0.3721478693\n",
    "y_verdadeiro = 0.3720230573\n",
    "\n",
    "diferenca_verdadeira = x_verdadeiro - y_verdadeiro\n",
    "print(diferenca_verdadeira)"
   ]
  },
  {
   "cell_type": "markdown",
   "metadata": {},
   "source": [
    "Para fins de ilustração, vamos imaginar que o computador operando a subtração não consegue representar todas as casas decimais de x e y e deve, na operação, de alguma forma aproximar seus valores, hipoteticamente considerados a seguir:"
   ]
  },
  {
   "cell_type": "code",
   "execution_count": 12,
   "metadata": {},
   "outputs": [
    {
     "name": "stdout",
     "output_type": "stream",
     "text": [
      "0.00012999999999996348\n"
     ]
    }
   ],
   "source": [
    "x_do_computador = 0.37215\n",
    "y_do_computador = 0.37202\n",
    "\n",
    "diferenca_do_computador = x_do_computador - y_do_computador\n",
    "print(diferenca_do_computador)"
   ]
  },
  {
   "cell_type": "markdown",
   "metadata": {},
   "source": [
    "Notamos então uma perda signficativa de precisão na subtração no segundo caso. Se consideramos em termos absolutos, o erro é pequeno. Mas em termos relativos, a diferença é realmente significativa:"
   ]
  },
  {
   "cell_type": "code",
   "execution_count": 13,
   "metadata": {},
   "outputs": [
    {
     "name": "stdout",
     "output_type": "stream",
     "text": [
      "Erro absoluto:  5.187999999989312e-06\n",
      "Erro relativo percentual:  4.156651604004732%\n"
     ]
    }
   ],
   "source": [
    "erro_absoluto = diferenca_do_computador - diferenca_verdadeira\n",
    "print(\"Erro absoluto: \", erro_absoluto)\n",
    "\n",
    "erro_relativo_percentual = 100*erro_absoluto / diferenca_verdadeira\n",
    "print(\"Erro relativo percentual: \", f'{erro_relativo_percentual}%')"
   ]
  },
  {
   "cell_type": "markdown",
   "metadata": {},
   "source": [
    "De modo que, a partir do momento em que o computador é forçado a aproximar os valores de h, quanto menor h, maior e mais significativo será o erro proveniente de operações como a subtração exemplificada. O nome do fenômeno que gera este erro é conhecido como cancelamento catastrófico."
   ]
  },
  {
   "cell_type": "markdown",
   "metadata": {
    "deletable": false,
    "editable": false,
    "nbgrader": {
     "cell_type": "markdown",
     "checksum": "94e002dee6039be77bd85c9094adc79a",
     "grade": false,
     "grade_id": "cell-f73db6f03ad40c68",
     "locked": true,
     "schema_version": 3,
     "solution": false,
     "task": false
    }
   },
   "source": [
    "# 2: Um problema modelo\n",
    "\n",
    "Vamos minimizar a função $f(x) = e^x - 2x$."
   ]
  },
  {
   "cell_type": "code",
   "execution_count": 14,
   "metadata": {
    "deletable": false,
    "editable": false,
    "nbgrader": {
     "cell_type": "code",
     "checksum": "258a73b0040029bcbb6ba512bb1a0901",
     "grade": false,
     "grade_id": "cell-50e439bd375c6d83",
     "locked": true,
     "schema_version": 3,
     "solution": false,
     "task": false
    }
   },
   "outputs": [],
   "source": [
    "def f(x):\n",
    "    return np.exp(x) - 2*x"
   ]
  },
  {
   "cell_type": "markdown",
   "metadata": {
    "deletable": false,
    "editable": false,
    "nbgrader": {
     "cell_type": "markdown",
     "checksum": "4eb888fa284466b2ceb633d7457dad99",
     "grade": false,
     "grade_id": "cell-e3d3efb25ad5cc63",
     "locked": true,
     "schema_version": 3,
     "solution": false,
     "task": false
    }
   },
   "source": [
    "## Preparando a bisseção\n",
    "\n",
    "Escreva 3 funções:\n",
    "- a derivada analítica $g_1(x) = f'(x)$\n",
    "- a derivada central $g_2(x)$ com passo `h = 1e-3`\n",
    "- a derivada central $g_2(x)$ com passo `h = 1e-5`"
   ]
  },
  {
   "cell_type": "code",
   "execution_count": 15,
   "metadata": {
    "deletable": false,
    "nbgrader": {
     "cell_type": "code",
     "checksum": "db10c8b675effc6aed57ab25fda764a1",
     "grade": false,
     "grade_id": "cell-24a45d23c8e14f1d",
     "locked": false,
     "schema_version": 3,
     "solution": true,
     "task": false
    }
   },
   "outputs": [],
   "source": [
    "def g1(x):\n",
    "    return np.exp(x) - 2\n",
    "\n",
    "def g2(x):\n",
    "    return df_central(f, x, h=1e-3)\n",
    "\n",
    "def g3(x):\n",
    "    return df_central(f, x, h=1e-5)"
   ]
  },
  {
   "cell_type": "code",
   "execution_count": 16,
   "metadata": {
    "deletable": false,
    "editable": false,
    "nbgrader": {
     "cell_type": "code",
     "checksum": "9bad8fc87cb31dbed9ebd102c3914d35",
     "grade": true,
     "grade_id": "cell-29fc4f72f2ac4d50",
     "locked": true,
     "points": 2,
     "schema_version": 3,
     "solution": false,
     "task": false
    }
   },
   "outputs": [],
   "source": [
    "np.random.seed(41)\n",
    "for x in np.random.rand(10):\n",
    "    assert np.isclose(g1(x), g2(x)), x\n",
    "    assert np.isclose(g1(x), g3(x)), x"
   ]
  },
  {
   "cell_type": "markdown",
   "metadata": {
    "deletable": false,
    "editable": false,
    "nbgrader": {
     "cell_type": "markdown",
     "checksum": "b08068b8f965d045973eee6f5c1df9b2",
     "grade": false,
     "grade_id": "cell-829fb63ccb4c0cca",
     "locked": true,
     "schema_version": 3,
     "solution": false,
     "task": false
    }
   },
   "source": [
    "Faça o gráfico de $f(x)$ e determine um intervalo para fazer bisseção para encontrar um zero da derivada."
   ]
  },
  {
   "cell_type": "code",
   "execution_count": 17,
   "metadata": {},
   "outputs": [],
   "source": [
    "def plot_function(f, left = -1+1e-8, right = 1-1e-8, title=\"\", xlabel=\"\", ylabel=\"\"):\n",
    "    x_axis = np.linspace(left, right)\n",
    "    y_axis = [f(x) for x in x_axis]\n",
    "    plt.plot(x_axis, y_axis)\n",
    "    \n",
    "    title = title if title != \"\" else f\"{f.__name__}(x) para x pertencente ao intervalo [{left}, {right}]\"\n",
    "    plt.title(title)\n",
    "    plt.xlabel(xlabel)\n",
    "    plt.ylabel(ylabel)"
   ]
  },
  {
   "cell_type": "code",
   "execution_count": 18,
   "metadata": {
    "deletable": false,
    "nbgrader": {
     "cell_type": "code",
     "checksum": "5edb59d346550a5328f3a7631ee43ccc",
     "grade": false,
     "grade_id": "cell-a58ac0f52b122daf",
     "locked": false,
     "schema_version": 3,
     "solution": true,
     "task": false
    }
   },
   "outputs": [
    {
     "data": {
      "image/png": "[encoded data removed]",
      "text/plain": [
       "<Figure size 432x288 with 1 Axes>"
      ]
     },
     "metadata": {
      "needs_background": "light"
     },
     "output_type": "display_data"
    }
   ],
   "source": [
    "ax = plt.gca()\n",
    "\n",
    "left, right = [-2, 2]\n",
    "plot_function(f, left, right, title = f\"e(x) - 2x para x pertence ao intervalo [{left}, {right}] \\n\", xlabel=\"x\", ylabel=\"e(x) - 2x\")"
   ]
  },
  {
   "cell_type": "code",
   "execution_count": 19,
   "metadata": {
    "deletable": false,
    "editable": false,
    "nbgrader": {
     "cell_type": "code",
     "checksum": "ea476aa7ebd6797fcd4bbde18628c64d",
     "grade": true,
     "grade_id": "cell-0cb823848a9c5e2a",
     "locked": true,
     "points": 1,
     "schema_version": 3,
     "solution": false,
     "task": false
    }
   },
   "outputs": [],
   "source": [
    "assert len(ax.lines) == 1\n",
    "assert ax.title.get_text() != \"\""
   ]
  },
  {
   "cell_type": "markdown",
   "metadata": {
    "deletable": false,
    "editable": false,
    "nbgrader": {
     "cell_type": "markdown",
     "checksum": "24d0428ef62235734304e2dc752bc3dd",
     "grade": false,
     "grade_id": "cell-cad1aa84b713fa03",
     "locked": true,
     "schema_version": 3,
     "solution": false,
     "task": false
    }
   },
   "source": [
    "Qual intervalo você escolheria?\n",
    "Porquê?"
   ]
  },
  {
   "cell_type": "markdown",
   "metadata": {
    "deletable": false,
    "nbgrader": {
     "cell_type": "markdown",
     "checksum": "c5facd8e4669f216c60015a4fccac44a",
     "grade": true,
     "grade_id": "cell-747a80c3022bd503",
     "locked": false,
     "points": 1,
     "schema_version": 3,
     "solution": true,
     "task": false
    }
   },
   "source": [
    "O gráfico mostra que a derivada da função $e^x - 2x$ está próxima do ponto x = 0.6. Sabendo que 1) quanto menor o tamanho do intervalo escolhido, menos iterações serão necessárias para o método da bisseção encontrar a resposta aproximada; e que 2) o intervalo escolhido deve conter a resposta para o método convergir, escolhemos o intervalo de x pertencente a [0.6, 0.7]"
   ]
  },
  {
   "cell_type": "markdown",
   "metadata": {
    "deletable": false,
    "editable": false,
    "nbgrader": {
     "cell_type": "markdown",
     "checksum": "1e82977f797c04ea5e49000032bb19ba",
     "grade": false,
     "grade_id": "cell-e16fe2100c91ac0b",
     "locked": true,
     "schema_version": 3,
     "solution": false,
     "task": false
    }
   },
   "source": [
    "## Gráficos da bisseção\n",
    "\n",
    "Aplique o método da bisseção usando $g_1$, $g_2$ e $g_3$ para encontrar uma raiz de $f$.\n",
    "\n",
    "Faça um gráfico mostrando como evolui (ao longo das iterações)\n",
    "a distância do ponto considerado até a raiz ($\\log(2)$),\n",
    "para cada um dos métodos."
   ]
  },
  {
   "cell_type": "code",
   "execution_count": 20,
   "metadata": {},
   "outputs": [],
   "source": [
    "def distance_to_neperian_log_of_2(f, pt): return np.log(2) - pt\n",
    "\n",
    "def plot_bissecao_pts_errors(functions, labels, a, b, xtol=1e-8, ytol=1e-8, maxiter=100, err_to_plot = distance_to_neperian_log_of_2, title = \"\"):\n",
    "    \"\"\"\n",
    "    Plota um gráfico com, no eixo das ordenadas, o erro (determinado pela função \"err_to_plot\")\n",
    "    na obtenção da raíz a partir do algorítimo bissecao_pts após n-ésima iteração e, no eixo das\n",
    "    abcissas, o número n de iterações correspondente para uma lista de funções passadas e suas labels\n",
    "    correspondentes\n",
    "    \"\"\" \n",
    "    def get_axis_to_plot(f):\n",
    "        pts = bissecao_pts(f, a, b, xtol, ytol, maxiter)\n",
    "        number_of_iterations = np.arange(1, len(pts)+1)\n",
    "        y_errors = [err_to_plot(f, pt) for pt in pts]\n",
    "        \n",
    "        x_axis = number_of_iterations\n",
    "        y_axis = y_errors\n",
    "        return (x_axis, y_axis)\n",
    "\n",
    "    def plot_all(f_plots_data):\n",
    "        for f_plot_data in f_plots_data:\n",
    "            axis, label = f_plot_data\n",
    "            plt.plot(axis[0], axis[1], label=label, marker=\"o\")\n",
    "\n",
    "    f_plots_data = [(get_axis_to_plot(f), labels[i])\n",
    "                    for i, f in enumerate(functions)]\n",
    "    plot_all(f_plots_data)\n",
    "\n",
    "    def set_plot_layout():\n",
    "        default_title = f'Gráfico com erro determinado pela função \"{err_to_plot.__name__}\" obtido na implementação do\\\n",
    " algoritmo de busca de raíz bissecao_pts \\n'\n",
    "    \n",
    "        plt.title(title if title else default_title, wrap=True)\n",
    "        plt.xlabel('Número da iteração')\n",
    "        plt.ylabel('Erro em determinada iteração')\n",
    "        plt.grid()\n",
    "        plt.legend()\n",
    "\n",
    "    set_plot_layout()\n",
    "    plt.show()\n"
   ]
  },
  {
   "cell_type": "code",
   "execution_count": 21,
   "metadata": {
    "deletable": false,
    "nbgrader": {
     "cell_type": "code",
     "checksum": "536e45660e994de7d3936c6ea48fa178",
     "grade": false,
     "grade_id": "cell-5898a28e8d84011e",
     "locked": false,
     "schema_version": 3,
     "solution": true,
     "task": false
    }
   },
   "outputs": [
    {
     "data": {
      "image/png": "[encoded data removed]",
      "text/plain": [
       "<Figure size 432x288 with 1 Axes>"
      ]
     },
     "metadata": {
      "needs_background": "light"
     },
     "output_type": "display_data"
    }
   ],
   "source": [
    "ax = plt.gca()\n",
    "\n",
    "a, b = [0.6, 0.7]\n",
    "plot_bissecao_pts_errors([g1, g2, g3], [\"g1\", \"g2\", \"g3\"], a, b)"
   ]
  },
  {
   "cell_type": "code",
   "execution_count": 22,
   "metadata": {
    "deletable": false,
    "editable": false,
    "nbgrader": {
     "cell_type": "code",
     "checksum": "371a5eb6691e3a545842396edccb0a4b",
     "grade": true,
     "grade_id": "cell-6c548be9ea138bca",
     "locked": true,
     "points": 2,
     "schema_version": 3,
     "solution": false,
     "task": false
    }
   },
   "outputs": [],
   "source": [
    "assert len(ax.lines) == 3\n",
    "assert len(ax.legend().texts) == 3\n",
    "assert ax.title.get_text() != \"\"\n",
    "assert ax.get_xlabel() != \"\""
   ]
  },
  {
   "cell_type": "markdown",
   "metadata": {
    "deletable": false,
    "editable": false,
    "nbgrader": {
     "cell_type": "markdown",
     "checksum": "7ceaa67e3078c8fd2ffda661a9a0df13",
     "grade": false,
     "grade_id": "cell-25c5ce8287aa00a4",
     "locked": true,
     "schema_version": 3,
     "solution": false,
     "task": false
    }
   },
   "source": [
    "O que você vê no gráfico acima?\n",
    "Como você explica?"
   ]
  },
  {
   "cell_type": "markdown",
   "metadata": {
    "deletable": false,
    "nbgrader": {
     "cell_type": "markdown",
     "checksum": "08a80b4de713a17fe757e076d555bd09",
     "grade": true,
     "grade_id": "cell-b7f111b2be544b98",
     "locked": false,
     "points": 2,
     "schema_version": 3,
     "solution": true,
     "task": false
    }
   },
   "source": [
    "Podemos ver que, ao menos para os parâmetros da questão, erros provenientes do cancelamento catastrófico não são significativos e as três funções (derivada analítica, numérica central com passo 1e-3 e numérica central com passo 1e-5) convergem para o mesmo valor com velocidade bastante similar e, como esperado, a derivada numérica centrada com passo menor precisa de menos iterações pra convergir pro valor final do que a com passo maior. Bizarramente (provavelmente por algum erro de interpretação meu do que está sendo pedido e objetivado nessas questões), para tornar o cancelamento catastrófico relevante é necessário diminuir o passo para o ordem de $10^-325$, como ilustrado no gráfico a seguir:"
   ]
  },
  {
   "cell_type": "code",
   "execution_count": 23,
   "metadata": {},
   "outputs": [
    {
     "name": "stderr",
     "output_type": "stream",
     "text": [
      "<ipython-input-4-113efa04feac>:3: RuntimeWarning: invalid value encountered in double_scalars\n",
      "  return (f(x + h) - f(x - h)) / (2*h)\n"
     ]
    },
    {
     "data": {
      "image/png": "[encoded data removed]",
      "text/plain": [
       "<Figure size 432x288 with 1 Axes>"
      ]
     },
     "metadata": {
      "needs_background": "light"
     },
     "output_type": "display_data"
    }
   ],
   "source": [
    "def g3_with_very_small_h(x):\n",
    "    return df_central(f, x, h=1e-325)\n",
    "\n",
    "plot_bissecao_pts_errors([g1, g2, g3_with_very_small_h], [\"g1\", \"g2\", \"g3 para h=1e-325\"], a, b)"
   ]
  },
  {
   "cell_type": "markdown",
   "metadata": {
    "deletable": false,
    "editable": false,
    "nbgrader": {
     "cell_type": "markdown",
     "checksum": "8dbccd2631fc56a8ad603f9008b64063",
     "grade": false,
     "grade_id": "cell-23da70c6d88da324",
     "locked": true,
     "schema_version": 3,
     "solution": false,
     "task": false
    }
   },
   "source": [
    "## Newton\n",
    "\n",
    "Para usar o método de Newton, será necessário usarmos mais uma derivada numérica.\n",
    "\n",
    "Implemente\n",
    "- $h_1(x)$, a segunda derivada analítica, e\n",
    "- $h_2(x)$ a derivada numérica (que pode ser obtida a partir de `ddf_central`)."
   ]
  },
  {
   "cell_type": "code",
   "execution_count": 24,
   "metadata": {
    "deletable": false,
    "nbgrader": {
     "cell_type": "code",
     "checksum": "5404878115634b009970291c4afae16f",
     "grade": false,
     "grade_id": "cell-6f3276844ea70932",
     "locked": false,
     "schema_version": 3,
     "solution": true,
     "task": false
    }
   },
   "outputs": [],
   "source": [
    "def h1(x):\n",
    "    return np.exp(x)\n",
    "\n",
    "def h2(x):\n",
    "    return ddf_central(np.exp, x)"
   ]
  },
  {
   "cell_type": "code",
   "execution_count": 25,
   "metadata": {
    "deletable": false,
    "editable": false,
    "nbgrader": {
     "cell_type": "code",
     "checksum": "b03ce24db28b1b65b76091ac88b7b84f",
     "grade": true,
     "grade_id": "cell-c10da51972d62af4",
     "locked": true,
     "points": 1,
     "schema_version": 3,
     "solution": false,
     "task": false
    }
   },
   "outputs": [],
   "source": [
    "np.random.seed(41)\n",
    "for x in np.random.rand(10):\n",
    "    assert np.isclose(h1(x), h2(x)), x"
   ]
  },
  {
   "cell_type": "markdown",
   "metadata": {
    "deletable": false,
    "editable": false,
    "nbgrader": {
     "cell_type": "markdown",
     "checksum": "16d6f04597392e72afb177d7a4aed7c7",
     "grade": false,
     "grade_id": "cell-2e22f9380c6d0178",
     "locked": true,
     "schema_version": 3,
     "solution": false,
     "task": false
    }
   },
   "source": [
    "Agora, aplique o método de Newton (com tolerâncias padrão):\n",
    "- com ambas as derivadas analíticas\n",
    "- com a primeira derivada analítica, e a segunda numérica\n",
    "- com ambas as derivadas numéricas (use a \"melhor\" derivada central que você puder).\n",
    "\n",
    "Faça, como no caso da bisseção, o gráfico da distância até a mínimo da função."
   ]
  },
  {
   "cell_type": "code",
   "execution_count": 26,
   "metadata": {},
   "outputs": [],
   "source": [
    "def plot_newton_pts_errors(functions, derivatives, labels, x = 0, xtol=1e-8, ytol=1e-8, maxiter=100, err_to_plot = distance_to_neperian_log_of_2, title = \"\"):\n",
    "    \"\"\"\n",
    "    Plota um gráfico com, no eixo das ordenadas, o erro (determinado pela função \"err_to_plot\")\n",
    "    na obtenção da raíz a partir do algoritmo newton_pts após n-ésima iteração e, no eixo das abcissas,\n",
    "    o número n de iterações correspondente para uma lista de funções passadas e suas labels correspondentes\n",
    "    \"\"\" \n",
    "    def get_axis_to_plot(f, df):\n",
    "        pts = newton_pts(f, df, x, xtol, ytol, maxiter)\n",
    "        number_of_iterations = np.arange(1, len(pts)+1)\n",
    "        y_errors = [err_to_plot(f, pt) for pt in pts]\n",
    "        \n",
    "        x_axis = number_of_iterations\n",
    "        y_axis = y_errors\n",
    "        return (x_axis, y_axis)\n",
    "\n",
    "    def plot_all(f_plots_data):\n",
    "        for f_plot_data in f_plots_data:\n",
    "            axis, label = f_plot_data\n",
    "            plt.plot(axis[0], axis[1], label=label)\n",
    "\n",
    "    f_plots_data = [(get_axis_to_plot(f, derivatives[i]), labels[i])\n",
    "                    for i, f in enumerate(functions)]\n",
    "    plot_all(f_plots_data)\n",
    "\n",
    "    def set_plot_layout():\n",
    "        default_title = f'Gráfico com erro determinado pela função \"{err_to_plot.__name__}\" obtido na implementação do\\\n",
    " algoritmo de busca de raíz newton_pts \\n'\n",
    "    \n",
    "        plt.title(title if title else default_title, wrap=True)\n",
    "        plt.xlabel('Número da iteração')\n",
    "        plt.ylabel('Erro em determinada iteração')\n",
    "        plt.grid()\n",
    "        plt.legend()\n",
    "\n",
    "    set_plot_layout()\n",
    "    plt.show()\n"
   ]
  },
  {
   "cell_type": "code",
   "execution_count": 27,
   "metadata": {
    "deletable": false,
    "editable": false,
    "nbgrader": {
     "cell_type": "code",
     "checksum": "ace81e81269c29557de33862e75e13c8",
     "grade": true,
     "grade_id": "cell-66860f1fda7d0769",
     "locked": true,
     "points": 1,
     "schema_version": 3,
     "solution": false,
     "task": false
    }
   },
   "outputs": [],
   "source": [
    "assert len(ax.lines) == 3\n",
    "assert len(ax.legend().texts) == 3\n",
    "assert ax.title.get_text() != \"\"\n",
    "assert ax.get_xlabel() != \"\""
   ]
  },
  {
   "cell_type": "code",
   "execution_count": 28,
   "metadata": {
    "deletable": false,
    "nbgrader": {
     "cell_type": "code",
     "checksum": "55cf4c6fc14a5618fa060ef44894ccbd",
     "grade": false,
     "grade_id": "cell-1d13bf7169526341",
     "locked": false,
     "schema_version": 3,
     "solution": true,
     "task": false
    }
   },
   "outputs": [
    {
     "data": {
      "image/png": "[encoded data removed]",
      "text/plain": [
       "<Figure size 432x288 with 1 Axes>"
      ]
     },
     "metadata": {
      "needs_background": "light"
     },
     "output_type": "display_data"
    }
   ],
   "source": [
    "ax = plt.gca()\n",
    "\n",
    "plot_newton_pts_errors([g1, g1, g2], [h1, h2, h2], [\"f'(x) e f''(x) analíticas\", \"f'(x) analítica e f''(x) numérica\", \"f'(x) e f''(x) numéricas\"], x = 0)"
   ]
  },
  {
   "cell_type": "markdown",
   "metadata": {
    "deletable": false,
    "editable": false,
    "nbgrader": {
     "cell_type": "markdown",
     "checksum": "c7f395843dd76b9406656cd4a989c80b",
     "grade": false,
     "grade_id": "cell-80622fba5962c988",
     "locked": true,
     "schema_version": 3,
     "solution": false,
     "task": false
    }
   },
   "source": [
    "Agora, reduza ambas as tolerâncias do método para `1e-15`, e refaça os gráficos."
   ]
  },
  {
   "cell_type": "code",
   "execution_count": 29,
   "metadata": {
    "deletable": false,
    "nbgrader": {
     "cell_type": "code",
     "checksum": "3735d31827898e3337581fa6db3ea1c6",
     "grade": true,
     "grade_id": "cell-99d9571ec5ff0bb4",
     "locked": false,
     "points": 1,
     "schema_version": 3,
     "solution": true,
     "task": false
    }
   },
   "outputs": [
    {
     "data": {
      "image/png": "[encoded data removed]",
      "text/plain": [
       "<Figure size 432x288 with 1 Axes>"
      ]
     },
     "metadata": {
      "needs_background": "light"
     },
     "output_type": "display_data"
    }
   ],
   "source": [
    "plot_newton_pts_errors([g1, g1, g2], [h1, h2, h2], [\"f'(x) e f''(x) analíticas\", \"f'(x) analítica e f''(x) numérica\", \"f'(x) e f''(x) numéricas\"], x = 0, xtol=1e-15, ytol=1e-15)"
   ]
  },
  {
   "cell_type": "markdown",
   "metadata": {
    "deletable": false,
    "editable": false,
    "nbgrader": {
     "cell_type": "markdown",
     "checksum": "74ca5df8fcfd3e57d63283c23c0136c9",
     "grade": false,
     "grade_id": "cell-01eb8bb00f1f5bdb",
     "locked": true,
     "schema_version": 3,
     "solution": false,
     "task": false
    }
   },
   "source": [
    "Deveria haver (pelo menos) duas diferenças entre este gráfico e o anterior.\n",
    "\n",
    "- Quais você observa?\n",
    "- Como você as explica?"
   ]
  },
  {
   "cell_type": "markdown",
   "metadata": {
    "deletable": false,
    "nbgrader": {
     "cell_type": "markdown",
     "checksum": "0933d483ff8f446d9225d3095a6ff333",
     "grade": true,
     "grade_id": "cell-7f4f22e525bf8a98",
     "locked": false,
     "points": 3,
     "schema_version": 3,
     "solution": true,
     "task": false
    }
   },
   "source": [
    "A primeira é que naturalmente o número de iterações necessários para convergir à resposta com as tolerâncias especificadas aumenta quando os valores das tolerâncias diminuem. \n",
    "\n",
    "A segunda é que as funções que utilizam derivadas numéricas aparentemente não convergem nunca para a resposta com as tolerâncias especificadas. Podemos corroborar essa afirmação aumentando o número máximo de iterações como critério de parada e observando a raíz obtida para diferentes valores:"
   ]
  },
  {
   "cell_type": "code",
   "execution_count": 30,
   "metadata": {
    "scrolled": true
   },
   "outputs": [
    {
     "name": "stdout",
     "output_type": "stream",
     "text": [
      "MÁXIMO DE ITERAÇÕES: 100\n",
      "f'(x) e f''(x) analíticas ------------ Número de iterações: 6 ---- Raíz encontrada: 0.6931471805599453\n",
      "f'(x) analítica e f''(x) numérica ---- Número de iterações: 100 ---- Raíz encontrada: 0.6931470138932303\n",
      "f'(x) e f''(x) numéricas ------------- Número de iterações: 100 ---- Raíz encontrada: 0.6931471805451276\n",
      "\n",
      "\n",
      "MÁXIMO DE ITERAÇÕES: 1000\n",
      "f'(x) e f''(x) analíticas ------------ Número de iterações: 6 ---- Raíz encontrada: 0.6931471805599453\n",
      "f'(x) analítica e f''(x) numérica ---- Número de iterações: 1000 ---- Raíz encontrada: 0.6931470138932303\n",
      "f'(x) e f''(x) numéricas ------------- Número de iterações: 1000 ---- Raíz encontrada: 0.6931471805451276\n",
      "\n",
      "\n",
      "MÁXIMO DE ITERAÇÕES: 10000\n",
      "f'(x) e f''(x) analíticas ------------ Número de iterações: 6 ---- Raíz encontrada: 0.6931471805599453\n",
      "f'(x) analítica e f''(x) numérica ---- Número de iterações: 10000 ---- Raíz encontrada: 0.6931470138932303\n",
      "f'(x) e f''(x) numéricas ------------- Número de iterações: 10000 ---- Raíz encontrada: 0.6931471805451276\n",
      "\n",
      "\n"
     ]
    }
   ],
   "source": [
    "for maxiter in [100, 1000, 10000]:\n",
    "    print(f'MÁXIMO DE ITERAÇÕES: {maxiter}')\n",
    "    g1_pts = newton_pts(g1, h1, 0, xtol=1e-15, ytol=1e-15, maxiter=maxiter)\n",
    "    g2_pts = newton_pts(g2, h2, 0, xtol=1e-15, ytol=1e-15, maxiter=maxiter)\n",
    "    g3_pts = newton_pts(g3, h2, 0, xtol=1e-15, ytol=1e-15, maxiter=maxiter)\n",
    "    print(\"f'(x) e f''(x) analíticas ------------\", f'Número de iterações: {len(g1_pts)-1} ----', f'Raíz encontrada: {g1_pts[-1]}')\n",
    "    print(\"f'(x) analítica e f''(x) numérica ----\", f'Número de iterações: {len(g2_pts)-1} ----', f'Raíz encontrada: {g2_pts[-1]}')\n",
    "    print(\"f'(x) e f''(x) numéricas -------------\", f'Número de iterações: {len(g3_pts)-1} ----', f'Raíz encontrada: {g3_pts[-1]}')\n",
    "    print(\"\\n\")\n"
   ]
  },
  {
   "cell_type": "markdown",
   "metadata": {},
   "source": [
    "Percebe-se que não só o aumento do número máximo de iterações não garante a convergência para as tolerâncias especificadas, como a própria raíz encontrada se mantêm exatamente igual para as diferentes funções.\n",
    "\n",
    "A explicação é que o mecanismo de aproximação de números decimais (floats) em Python, no caso analisado, não permite uma representação de um número com mais de 16 algarismos significativos. Então, no caso das derivadas numéricas, as operações realizadas para se obter uma raíz com tolerâncias menores não são capazes de aumentar a precisão da resposta!"
   ]
  },
  {
   "cell_type": "markdown",
   "metadata": {
    "deletable": false,
    "editable": false,
    "nbgrader": {
     "cell_type": "markdown",
     "checksum": "e47055e0ef025c7e55b8dafd6a99cc15",
     "grade": false,
     "grade_id": "cell-fa08d17ea63fb838",
     "locked": true,
     "schema_version": 3,
     "solution": false,
     "task": false
    }
   },
   "source": [
    "# 3: O mesmo problema, mais complicado\n",
    "\n",
    "Queremos achar o mínimo da função $$ f(x) = e^{x^2-2x+1}-2^{x^3-6x+12} $$\n",
    "no intervalo $[-2,2]$.\n",
    "\n",
    "Defina $f$, e faça um gráfico para encontrar um intervalo para bisseção e um ponto inicial para Newton."
   ]
  },
  {
   "cell_type": "code",
   "execution_count": 31,
   "metadata": {
    "deletable": false,
    "nbgrader": {
     "cell_type": "code",
     "checksum": "0ced7e6818e714424989f7e7986e33bf",
     "grade": false,
     "grade_id": "cell-f50afc7c95af2a39",
     "locked": false,
     "schema_version": 3,
     "solution": true,
     "task": false
    }
   },
   "outputs": [
    {
     "data": {
      "image/png": "[encoded data removed]",
      "text/plain": [
       "<Figure size 432x288 with 1 Axes>"
      ]
     },
     "metadata": {
      "needs_background": "light"
     },
     "output_type": "display_data"
    }
   ],
   "source": [
    "ax = plt.gca()\n",
    "\n",
    "def f(x): return np.exp(x**2 - 2*x + 1) - np.exp2(x**3 - 6*x + 12)\n",
    "\n",
    "left, right = [-2, 2]\n",
    "plot_function(f, left, right,  xlabel=\"x\", ylabel=\"e(x) - 2x\")"
   ]
  },
  {
   "cell_type": "code",
   "execution_count": 32,
   "metadata": {
    "deletable": false,
    "editable": false,
    "nbgrader": {
     "cell_type": "code",
     "checksum": "34341cf7cc79160c950d6c993bbf2835",
     "grade": true,
     "grade_id": "cell-b3efe4063d0789aa",
     "locked": true,
     "points": 1,
     "schema_version": 3,
     "solution": false,
     "task": false
    }
   },
   "outputs": [],
   "source": [
    "assert len(ax.lines) == 1\n",
    "assert ax.title.get_text() != \"\"\n",
    "\n",
    "yvals = ax.lines[0].get_ydata()\n",
    "assert min(yvals) <= -20000\n",
    "assert np.all(yvals <= 0)"
   ]
  },
  {
   "cell_type": "markdown",
   "metadata": {
    "deletable": false,
    "editable": false,
    "nbgrader": {
     "cell_type": "markdown",
     "checksum": "d5e0e2f2cb67874b7c299b07e5d77063",
     "grade": false,
     "grade_id": "cell-3cf7c7f8b9c917bf",
     "locked": true,
     "schema_version": 3,
     "solution": false,
     "task": false
    }
   },
   "source": [
    "Calcule a raiz exata (a menos da precisão) do computador,\n",
    "aplicando o método da bisseção à derivada analítica de $f$."
   ]
  },
  {
   "cell_type": "code",
   "execution_count": 33,
   "metadata": {
    "deletable": false,
    "nbgrader": {
     "cell_type": "code",
     "checksum": "a58bf31aa4bba8ee06c03c0edc80aede",
     "grade": false,
     "grade_id": "cell-24d5013349e7f661",
     "locked": false,
     "schema_version": 3,
     "solution": true,
     "task": false
    }
   },
   "outputs": [],
   "source": [
    "def df(x): return (2*x - 2)*np.exp(x**2 - 2*x + 1)-(3*(x**2) - 6)*np.log(2)*np.exp2(x**3 - 6*x + 12)\n",
    "\n",
    "a,b = [-1.3, -1.5]\n",
    "pts = bissecao_pts(df, a, b)"
   ]
  },
  {
   "cell_type": "markdown",
   "metadata": {
    "deletable": false,
    "editable": false,
    "nbgrader": {
     "cell_type": "markdown",
     "checksum": "b74703f8033db78b8d42c36ceaa81e61",
     "grade": false,
     "grade_id": "cell-40c7aaafebc60a39",
     "locked": true,
     "schema_version": 3,
     "solution": false,
     "task": false
    }
   },
   "source": [
    "Calcule o valor de $f$ nos pontos obtidos.\n",
    "Em qual/quais deles ocorreu o mínimo?"
   ]
  },
  {
   "cell_type": "code",
   "execution_count": 34,
   "metadata": {
    "deletable": false,
    "nbgrader": {
     "cell_type": "code",
     "checksum": "e7a8bce40f0ae85e789f796c790d3c34",
     "grade": true,
     "grade_id": "cell-c6e8bb7029f4e79b",
     "locked": false,
     "points": 1,
     "schema_version": 3,
     "solution": true,
     "task": false
    }
   },
   "outputs": [
    {
     "data": {
      "image/png": "[encoded data removed]",
      "text/plain": [
       "<Figure size 432x288 with 1 Axes>"
      ]
     },
     "metadata": {
      "needs_background": "light"
     },
     "output_type": "display_data"
    },
    {
     "name": "stdout",
     "output_type": "stream",
     "text": [
      "O mínimo ocorreu no ponto (-1.45, -205465.69182293178)\n"
     ]
    },
    {
     "name": "stderr",
     "output_type": "stream",
     "text": [
      "<ipython-input-31-71ded30181f8>:3: RuntimeWarning: overflow encountered in exp2\n",
      "  def f(x): return np.exp(x**2 - 2*x + 1) - np.exp2(x**3 - 6*x + 12)\n",
      "<ipython-input-31-71ded30181f8>:3: RuntimeWarning: overflow encountered in exp\n",
      "  def f(x): return np.exp(x**2 - 2*x + 1) - np.exp2(x**3 - 6*x + 12)\n",
      "<ipython-input-31-71ded30181f8>:3: RuntimeWarning: invalid value encountered in double_scalars\n",
      "  def f(x): return np.exp(x**2 - 2*x + 1) - np.exp2(x**3 - 6*x + 12)\n"
     ]
    }
   ],
   "source": [
    "def y_error(f, x): return f(x)\n",
    "plot_bissecao_pts_errors([df], [\"df\"], a, b, err_to_plot = y_error)\n",
    "min_pt = pts[min(range(len(pts)), key=lambda pt: abs(f(pt)))]\n",
    "print(f'O mínimo ocorreu no ponto {min_pt, f(min_pt)}')"
   ]
  },
  {
   "cell_type": "markdown",
   "metadata": {
    "deletable": false,
    "editable": false,
    "nbgrader": {
     "cell_type": "markdown",
     "checksum": "e65ad2e99a7a5b85c2a7fe0fa22a03de",
     "grade": false,
     "grade_id": "cell-5beca6356c3e27a2",
     "locked": true,
     "schema_version": 3,
     "solution": false,
     "task": false
    }
   },
   "source": [
    "Qual a distância deste ponto ao último ponto produzido pela bisseção?"
   ]
  },
  {
   "cell_type": "code",
   "execution_count": 35,
   "metadata": {
    "deletable": false,
    "nbgrader": {
     "cell_type": "code",
     "checksum": "99d42db2387a4fe1e27e36ff4cbcce2b",
     "grade": true,
     "grade_id": "cell-6345a587885e746f",
     "locked": false,
     "points": 1,
     "schema_version": 3,
     "solution": true,
     "task": false
    }
   },
   "outputs": [
    {
     "name": "stdout",
     "output_type": "stream",
     "text": [
      "A distância entre o ponto onde o valor mínimo de f(x) encontrado e o último ponto produzido pela bisseção é: \n",
      "0.0371275967968927\n"
     ]
    }
   ],
   "source": [
    "distance = abs(min_pt - pts[-1])\n",
    "print(f'A distância entre o ponto onde o valor mínimo de f(x) encontrado e o último ponto produzido pela bisseção \\\n",
    "é: \\n{distance}')"
   ]
  },
  {
   "cell_type": "markdown",
   "metadata": {
    "deletable": false,
    "editable": false,
    "nbgrader": {
     "cell_type": "markdown",
     "checksum": "c908ed0939326673dbee1ea51699735f",
     "grade": false,
     "grade_id": "cell-ac38132ef810a31c",
     "locked": true,
     "schema_version": 3,
     "solution": false,
     "task": false
    }
   },
   "source": [
    "Agora, compare o erro com o método da bisseção e o de Newton, usando as derivadas numéricas.\n",
    "\n",
    "Como sugerem as contas acima, aqui há vários problemas de precisão numérica.\n",
    "Assim, tente botar tolerâncias pequenas, mas não pequenas demais para seus métodos."
   ]
  },
  {
   "cell_type": "code",
   "execution_count": 58,
   "metadata": {
    "deletable": false,
    "nbgrader": {
     "cell_type": "code",
     "checksum": "eeab84f96605262deb3cd7fd3ec298c7",
     "grade": true,
     "grade_id": "cell-e6a2e19935b8f52c",
     "locked": false,
     "points": 2,
     "schema_version": 3,
     "solution": true,
     "task": false
    }
   },
   "outputs": [
    {
     "data": {
      "image/png": "[encoded data removed]",
      "text/plain": [
       "<Figure size 432x288 with 1 Axes>"
      ]
     },
     "metadata": {
      "needs_background": "light"
     },
     "output_type": "display_data"
    },
    {
     "data": {
      "image/png": "[encoded data removed]",
      "text/plain": [
       "<Figure size 432x288 with 1 Axes>"
      ]
     },
     "metadata": {
      "needs_background": "light"
     },
     "output_type": "display_data"
    }
   ],
   "source": [
    "def numerical_derivative_of_f(x): return df_central(f, x, h=1e-6)\n",
    "def numerical_second_derivative_of_f(x): return ddf_central(f, x, h=1e-6)\n",
    "\n",
    "\n",
    "biss_pts = bissecao_pts(numerical_derivative_of_f, a, b, xtol=1e-2, ytol=1e-2)\n",
    "nt_pts = newton_pts(numerical_derivative_of_f, numerical_second_derivative_of_f, x = -1.45, xtol=1e-10, ytol=1e-10)\n",
    "\n",
    "\n",
    "plot_newton_pts_errors([numerical_derivative_of_f], [numerical_second_derivative_of_f], [\"f'(x) e f''(x) numéricas\"], x = -1.45, err_to_plot = y_error, xtol=1e-10, ytol=1e-10)\n",
    "plot_bissecao_pts_errors([numerical_derivative_of_f], [\"f'(x) e f''(x) numéricas\"], a, b, err_to_plot = y_error, xtol=1e-2, ytol=1e-2, maxiter=10000)"
   ]
  },
  {
   "cell_type": "markdown",
   "metadata": {},
   "source": [
    "De onde percebemos que 1) o método de Newton converge bem mais rapidamente; e 2) se não diminúimos drasticamente as tolerâncias utilizando a bisseção, ocorre o fenômeno descrito no final da questão 2: não importa o número de iterações, o método para de convergir devido às limitações da aritmética do ponto flutuante."
   ]
  }
 ],
 "metadata": {
  "@webio": {
   "lastCommId": null,
   "lastKernelId": null
  },
  "hide_input": false,
  "kernelspec": {
   "display_name": "Python 3",
   "language": "python",
   "name": "python3"
  },
  "language_info": {
   "codemirror_mode": {
    "name": "ipython",
    "version": 3
   },
   "file_extension": ".py",
   "mimetype": "text/x-python",
   "name": "python",
   "nbconvert_exporter": "python",
   "pygments_lexer": "ipython3",
   "version": "3.8.5"
  },
  "toc": {
   "base_numbering": 1,
   "nav_menu": {},
   "number_sections": true,
   "sideBar": true,
   "skip_h1_title": false,
   "title_cell": "Table of Contents",
   "title_sidebar": "Contents",
   "toc_cell": true,
   "toc_position": {},
   "toc_section_display": true,
   "toc_window_display": true
  }
 },
 "nbformat": 4,
 "nbformat_minor": 4
}
